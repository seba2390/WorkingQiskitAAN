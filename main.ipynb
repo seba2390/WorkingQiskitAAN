{
 "cells": [
  {
   "cell_type": "code",
   "execution_count": 14,
   "metadata": {
    "pycharm": {
     "name": "#%%\n"
    },
    "tags": []
   },
   "outputs": [],
   "source": [
    "import matplotlib.pyplot as plt\n",
    "import numpy as np\n",
    "from torch.utils.data import DataLoader\n",
    "import torchvision\n",
    "from GenerativeAdversarialNetwork import GenerativeAdversarialNetwork\n",
    "import torch\n",
    "import wandb\n",
    "import os\n",
    "from Util import *\n",
    "from cost import *\n"
   ]
  },
  {
   "cell_type": "code",
   "execution_count": 15,
   "metadata": {
    "collapsed": false,
    "jupyter": {
     "outputs_hidden": false
    },
    "pycharm": {
     "name": "#%%\n"
    }
   },
   "outputs": [],
   "source": [
    "# N.B. don't apply one-hot encoding on labels - we don't need them (unsupervised learning)\n",
    "# Applying ToTensor() transform to change type(data) to torch.Tensor\n",
    "my_transform_1 = torchvision.transforms.ToTensor()\n",
    "my_transforms = torchvision.transforms.Compose([my_transform_1])\n",
    "\n",
    "# Set download=True first time to acquire dataset\n",
    "_MNIST_DATASET = torchvision.datasets.MNIST(root=\"data/\",\n",
    "                                            download=False,\n",
    "                                            train=True,\n",
    "                                            transform=my_transforms)\n"
   ]
  },
  {
   "cell_type": "code",
   "execution_count": 16,
   "metadata": {
    "collapsed": false,
    "jupyter": {
     "outputs_hidden": false
    },
    "pycharm": {
     "name": "#%%\n"
    }
   },
   "outputs": [
    {
     "data": {
      "text/plain": [
       "5949"
      ]
     },
     "execution_count": 16,
     "metadata": {},
     "output_type": "execute_result"
    }
   ],
   "source": [
    "# Picking out numbers from dataset\n",
    "numbers = [9]\n",
    "_MNIST_DATASET.data = _MNIST_DATASET.data[keep_numbers(numbers,_MNIST_DATASET)]\n",
    "_MNIST_DATASET.targets = _MNIST_DATASET.targets[keep_numbers(numbers,_MNIST_DATASET)]\n",
    "_MNIST_DATASET.data.__len__()"
   ]
  },
  {
   "cell_type": "code",
   "execution_count": 17,
   "metadata": {
    "collapsed": false,
    "jupyter": {
     "outputs_hidden": false
    },
    "pycharm": {
     "name": "#%%\n"
    }
   },
   "outputs": [],
   "source": [
    "# Configuration\n",
    "_USE_WANDB = False\n",
    "_DEVICE    = torch.device(\"cuda:0\" if torch.cuda.is_available() else \"cpu\")\n",
    "#_DEVICE = torch.device(\"cpu\")\n",
    "\n",
    "epochs      = 100\n",
    "batch_size  = 512\n",
    "sample_size = 10    # Number of random values to sample (also nr. qbits used)\n",
    "_use_multibasis = False\n",
    "\n",
    "g_lr        = 0.00005  # Generator's learning rate\n",
    "d_lr        = 0.00005  # Discriminator's learning rate\n",
    "lrs = (d_lr,g_lr)\n",
    "\n",
    "g_betas     = (0.5, 0.999) # 0.9 , 0.999 are adam standard\n",
    "d_betas     = (0.5, 0.999) # 0.9 , 0.999 are adam standard\n",
    "betas       = (d_betas,g_betas)\n",
    "\n",
    "g_wd        = 0.0 # Generator's weight decay\n",
    "d_wd        = 0.0 # Discriminator's weight decay\n",
    "wds = (d_wd,g_wd)\n",
    "\n",
    "label_smooth = 0.1 # real_label=1 --> 1*(1-label_smooth), fake_label=0 --> 0+label_smooth\n",
    "\n"
   ]
  },
  {
   "cell_type": "code",
   "execution_count": 18,
   "metadata": {
    "collapsed": false,
    "jupyter": {
     "outputs_hidden": false
    },
    "pycharm": {
     "name": "#%%\n"
    }
   },
   "outputs": [
    {
     "name": "stdout",
     "output_type": "stream",
     "text": [
      "Using device:  cuda:0\n"
     ]
    }
   ],
   "source": [
    "# Setting up dataloader\n",
    "_MNIST_DATALOADER = DataLoader(_MNIST_DATASET,\n",
    "                               batch_size=batch_size,\n",
    "                               drop_last=True)\n",
    "my_net = GenerativeAdversarialNetwork(latent_size=sample_size,\n",
    "                                      use_multibasis=_use_multibasis)"
   ]
  },
  {
   "cell_type": "code",
   "execution_count": 19,
   "metadata": {
    "collapsed": false,
    "jupyter": {
     "outputs_hidden": false
    },
    "pycharm": {
     "name": "#%%\n"
    }
   },
   "outputs": [],
   "source": [
    "config_dict = \\\n",
    "    {\n",
    "    \"Loss function\": \"Binary Cross Entropy\",\n",
    "    \"Optimizer\": \"Adam\",\n",
    "    \"Learning_rates (D, G)\": lrs,\n",
    "    \"Epochs\": epochs,\n",
    "    \"Batch_size\": _MNIST_DATALOADER.batch_size,\n",
    "    \"Weight_decays (D, G)\": wds,\n",
    "    \"D Betas\": betas[0],\n",
    "    \"G Betas\": betas[1],\n",
    "    \"One sided label smoothing\": \"1->1*(1-\"+str(label_smooth)+\")\"+\"and 0->0.0+\"+str(label_smooth),\n",
    "    \"Nr. train data points\": _MNIST_DATASET.__len__(),\n",
    "    \"Note\": \"'Mode collapse' fixed w. normalization in seems to keep happening.\"\n",
    "    }\n",
    "\n",
    "if _USE_WANDB:\n",
    "    run = wandb.init(project=\"semi-working Quantum AAN for MNIST\",\n",
    "               config=config_dict,\n",
    "               save_code=False,\n",
    "               notes=\"Problems w. mode collapse\",\n",
    "               mode=\"online\")\n",
    "\n",
    "    wandb.watch(my_net)"
   ]
  },
  {
   "cell_type": "code",
   "execution_count": 20,
   "metadata": {
    "collapsed": false,
    "jupyter": {
     "outputs_hidden": false
    },
    "pycharm": {
     "name": "#%%\n"
    }
   },
   "outputs": [
    {
     "name": "stdout",
     "output_type": "stream",
     "text": [
      "Initial map: \n"
     ]
    },
    {
     "data": {
      "image/png": "[encoded data removed]",
      "text/plain": [
       "<Figure size 864x360 with 10 Axes>"
      ]
     },
     "metadata": {
      "needs_background": "light"
     },
     "output_type": "display_data"
    }
   ],
   "source": [
    "# Display random datapoint\n",
    "print(\"Initial map: \")\n",
    "rows = 2\n",
    "cols = 5\n",
    "my_net.eval()\n",
    "fig, ax = plt.subplots(rows,cols, figsize= (12,5))\n",
    "for row in range(rows):\n",
    "    for col in range(cols):\n",
    "\n",
    "        if _use_multibasis:\n",
    "            Z = multibasis_sample_qcirc(params=my_net._THETA_INIT,\n",
    "                                        _nr_samples=1,\n",
    "                                        _nr_qubits=sample_size,\n",
    "                                        _layer_depth=my_net._L_DEPTH,\n",
    "                                        _all_2_all=True,\n",
    "                                        _uniform_warm_start=True).to(_DEVICE)\n",
    "\n",
    "        else:\n",
    "            Z = sample_qcirc(params=my_net._THETA_INIT,\n",
    "                             _nr_samples=1,\n",
    "                             _nr_qubits=sample_size,\n",
    "                             _layer_depth=my_net._L_DEPTH,\n",
    "                             _all_2_all=True,\n",
    "                             _uniform_warm_start=True).to(_DEVICE)\n",
    "\n",
    "        X_hat = my_net.generator.forward(Z).reshape((28, 28)).cpu().detach().numpy()\n",
    "        ax[row][col].imshow(X_hat, cmap=\"gray\")\n",
    "plt.show()"
   ]
  },
  {
   "cell_type": "code",
   "execution_count": 21,
   "metadata": {
    "collapsed": false,
    "jupyter": {
     "outputs_hidden": false
    },
    "pycharm": {
     "name": "#%%\n"
    }
   },
   "outputs": [
    {
     "name": "stderr",
     "output_type": "stream",
     "text": [
      "100%|██████████| 100/100 [04:04<00:00,  2.44s/it]\n"
     ]
    }
   ],
   "source": [
    "my_net.train()\n",
    "d_loss, g_loss = my_net.train_network(dataloader =_MNIST_DATALOADER, lrs = lrs, wds = wds,\n",
    "                                      epochs = epochs, label_smooth = label_smooth, betas=betas,\n",
    "                                      save_images=True, use_wandb=_USE_WANDB)"
   ]
  },
  {
   "cell_type": "code",
   "execution_count": 22,
   "metadata": {
    "collapsed": false,
    "jupyter": {
     "outputs_hidden": false
    },
    "pycharm": {
     "name": "#%%\n"
    }
   },
   "outputs": [
    {
     "data": {
      "image/png": "[encoded data removed]",
      "text/plain": [
       "<Figure size 360x216 with 1 Axes>"
      ]
     },
     "metadata": {
      "needs_background": "light"
     },
     "output_type": "display_data"
    }
   ],
   "source": [
    "fig, ax = plt.subplots(1,1,figsize=(5,3))\n",
    "epocs = [i for i in range(len(d_loss))]\n",
    "ax.plot(epocs,d_loss,label=\"D loss\")\n",
    "ax.plot(epocs,g_loss,label=\"G loss\")\n",
    "ax.legend()\n",
    "plt.show()"
   ]
  },
  {
   "cell_type": "code",
   "execution_count": 23,
   "metadata": {
    "collapsed": false,
    "jupyter": {
     "outputs_hidden": false
    },
    "pycharm": {
     "name": "#%%\n"
    }
   },
   "outputs": [
    {
     "name": "stdout",
     "output_type": "stream",
     "text": [
      "final map: \n"
     ]
    },
    {
     "data": {
      "image/png": "[encoded data removed]",
      "text/plain": [
       "<Figure size 864x360 with 10 Axes>"
      ]
     },
     "metadata": {
      "needs_background": "light"
     },
     "output_type": "display_data"
    }
   ],
   "source": [
    "# Display random datapoint\n",
    "print(\"final map: \")\n",
    "rows = 2\n",
    "cols = 5\n",
    "my_net.eval()\n",
    "fig, ax = plt.subplots(rows,cols, figsize= (12,5))\n",
    "for row in range(rows):\n",
    "    for col in range(cols):\n",
    "\n",
    "        if _use_multibasis:\n",
    "            Z = multibasis_sample_qcirc(params=my_net._THETA_INIT,\n",
    "                                        _nr_samples=1,\n",
    "                                        _nr_qubits=sample_size,\n",
    "                                        _layer_depth=my_net._L_DEPTH,\n",
    "                                        _all_2_all=True,\n",
    "                                        _uniform_warm_start=True).to(_DEVICE)\n",
    "\n",
    "        else:\n",
    "            Z = sample_qcirc(params=my_net._THETA_INIT,\n",
    "                             _nr_samples=1,\n",
    "                             _nr_qubits=sample_size,\n",
    "                             _layer_depth=my_net._L_DEPTH,\n",
    "                             _all_2_all=True,\n",
    "                             _uniform_warm_start=True).to(_DEVICE)\n",
    "\n",
    "        X_hat = my_net.generator.forward(Z).reshape((28, 28)).cpu().detach().numpy()\n",
    "        ax[row][col].imshow(X_hat, cmap=\"gray\")\n",
    "plt.show()"
   ]
  },
  {
   "cell_type": "code",
   "execution_count": 20,
   "metadata": {
    "collapsed": false,
    "jupyter": {
     "outputs_hidden": false
    },
    "pycharm": {
     "name": "#%%\n"
    }
   },
   "outputs": [],
   "source": [
    "# Deleting all photos (assuming linux or mac system)\n",
    "import os\n",
    "delete_photos = False\n",
    "if delete_photos:\n",
    "    os.system(\"cd progress_pics && rm *.jpg\")"
   ]
  },
  {
   "cell_type": "code",
   "execution_count": 21,
   "metadata": {
    "collapsed": false,
    "jupyter": {
     "outputs_hidden": false
    },
    "pycharm": {
     "name": "#%%\n"
    }
   },
   "outputs": [],
   "source": [
    "# Save config settings used in run\n",
    "if _USE_WANDB:\n",
    "    save_config_dict(config_dict)\n",
    "    run.save(os.getcwd()+\"wandb/latest-run/files/my_config.txt\")\n",
    "    run.save(os.getcwd()+\"wandb/latest-run/files/requirements.txt\")"
   ]
  },
  {
   "cell_type": "code",
   "execution_count": 21,
   "metadata": {
    "collapsed": false,
    "jupyter": {
     "outputs_hidden": false
    },
    "pycharm": {
     "name": "#%%\n"
    }
   },
   "outputs": [],
   "source": []
  }
 ],
 "metadata": {
  "kernelspec": {
   "display_name": "Python 3 (ipykernel)",
   "language": "python",
   "name": "python3"
  },
  "language_info": {
   "codemirror_mode": {
    "name": "ipython",
    "version": 3
   },
   "file_extension": ".py",
   "mimetype": "text/x-python",
   "name": "python",
   "nbconvert_exporter": "python",
   "pygments_lexer": "ipython3",
   "version": "3.9.12"
  }
 },
 "nbformat": 4,
 "nbformat_minor": 4
}