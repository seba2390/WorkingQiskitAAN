{
 "cells": [
  {
   "cell_type": "code",
   "execution_count": 2,
   "metadata": {
    "pycharm": {
     "name": "#%%\n"
    },
    "tags": []
   },
   "outputs": [],
   "source": [
    "import numpy as np\n",
    "from qiskit.visualization import plot_histogram\n",
    "import matplotlib.pyplot as plt\n",
    "import torch\n",
    "import scipy\n",
    "from ansatz import *\n",
    "from cost import *\n",
    "from tqdm import tqdm\n",
    "from Discriminator import *"
   ]
  },
  {
   "cell_type": "code",
   "execution_count": 3,
   "metadata": {
    "collapsed": false,
    "jupyter": {
     "outputs_hidden": false
    },
    "pycharm": {
     "name": "#%%\n"
    }
   },
   "outputs": [],
   "source": [
    "_N_QUBITS=4\n",
    "_L_DEPTH =2\n",
    "_NR_SHOTS = 2000000\n",
    "_ALL_2_ALL = True\n",
    "_USE_ROWS = False\n",
    "_I_MAX = 30\n",
    "if _ALL_2_ALL:\n",
    "    _NR_PARAMS = int(_L_DEPTH*(2*_N_QUBITS+ _N_QUBITS * (_N_QUBITS - 1) / 2))\n",
    "else:\n",
    "    _NR_PARAMS = int(_L_DEPTH*(2*_N_QUBITS+ _N_QUBITS - 1))\n",
    "_THETA_INIT = torch.randn(size=(_NR_PARAMS,)).tolist()\n"
   ]
  },
  {
   "cell_type": "code",
   "execution_count": 4,
   "metadata": {
    "collapsed": false,
    "jupyter": {
     "outputs_hidden": false
    },
    "pycharm": {
     "name": "#%%\n"
    }
   },
   "outputs": [],
   "source": [
    "torch.manual_seed(0)\n",
    "test_weights = torch.bernoulli(torch.abs(torch.nn.Linear(in_features=100,out_features=_N_QUBITS,bias=False).weight))"
   ]
  },
  {
   "cell_type": "code",
   "execution_count": 5,
   "metadata": {
    "collapsed": false,
    "jupyter": {
     "outputs_hidden": false
    },
    "pycharm": {
     "name": "#%%\n"
    }
   },
   "outputs": [],
   "source": [
    "my_cost = get_cost(X_train=test_weights,\n",
    "                   _nr_qubits=_N_QUBITS,\n",
    "                   _layer_depth=_L_DEPTH,\n",
    "                   _shots=_NR_SHOTS,\n",
    "                   _all_2_all=_ALL_2_ALL,\n",
    "                   _use_rows=_USE_ROWS)\n",
    "\n",
    "counter = 0\n",
    "losses = []\n",
    "def my_callback(params):\n",
    "    global counter, losses\n",
    "    backend = qiskit.Aer.get_backend('aer_simulator')\n",
    "    q_circuit = ansatz(_theta=params,\n",
    "                       _nr_qubits=_N_QUBITS,\n",
    "                       _layer_depth=_L_DEPTH,\n",
    "                       _all_2_all=_ALL_2_ALL,\n",
    "                       _uniform_warm_start=True)\n",
    "    transpiled_qpe = qiskit.transpile(q_circuit, backend)\n",
    "    assembled_qobj = qiskit.assemble(transpiled_qpe, shots=_NR_SHOTS)\n",
    "    measurements = backend.run(assembled_qobj).result().get_counts()\n",
    "    losses.append(NLL_cost(x_train=test_weights,\n",
    "                    x_model=measurements,\n",
    "                    eps=1.0e-8,\n",
    "                    use_rows=True).item())\n",
    "    counter += 1\n",
    "    print(\"iteration: \", counter, \"/\", _I_MAX)\n"
   ]
  },
  {
   "cell_type": "code",
   "execution_count": 6,
   "metadata": {
    "collapsed": false,
    "jupyter": {
     "outputs_hidden": false
    },
    "pycharm": {
     "name": "#%%\n"
    }
   },
   "outputs": [
    {
     "name": "stderr",
     "output_type": "stream",
     "text": [
      "/Users/sebastianyde/miniforge3/lib/python3.10/site-packages/numpy/linalg/linalg.py:2154: RuntimeWarning: divide by zero encountered in det\n",
      "  r = _umath_linalg.det(a, signature=signature)\n",
      "/Users/sebastianyde/miniforge3/lib/python3.10/site-packages/numpy/linalg/linalg.py:2154: RuntimeWarning: invalid value encountered in det\n",
      "  r = _umath_linalg.det(a, signature=signature)\n"
     ]
    },
    {
     "name": "stdout",
     "output_type": "stream",
     "text": [
      "iteration:  1 / 30\n",
      "iteration:  2 / 30\n",
      "iteration:  3 / 30\n",
      "iteration:  4 / 30\n",
      "iteration:  5 / 30\n",
      "iteration:  6 / 30\n",
      "iteration:  7 / 30\n",
      "iteration:  8 / 30\n",
      "iteration:  9 / 30\n",
      "iteration:  10 / 30\n",
      "iteration:  11 / 30\n",
      "iteration:  12 / 30\n",
      "iteration:  13 / 30\n",
      "iteration:  14 / 30\n",
      "iteration:  15 / 30\n",
      "iteration:  16 / 30\n",
      "iteration:  17 / 30\n",
      "iteration:  18 / 30\n",
      "iteration:  19 / 30\n",
      "iteration:  20 / 30\n",
      "iteration:  21 / 30\n",
      "iteration:  22 / 30\n",
      "iteration:  23 / 30\n",
      "iteration:  24 / 30\n",
      "iteration:  25 / 30\n",
      "iteration:  26 / 30\n",
      "iteration:  27 / 30\n",
      "iteration:  28 / 30\n",
      "iteration:  29 / 30\n",
      "iteration:  30 / 30\n",
      "\n",
      "   Return from subroutine COBYLA because the MAXFUN limit has been reached.\n",
      "\n",
      "   NFVALS =   30   F = 9.547912E+01    MAXCV = 0.000000E+00\n",
      "   X =-1.650136E-01   1.278721E+00  -2.018213E+00  -1.306059E-01   2.029170E+00\n",
      "       1.752346E-02  -2.711898E-01   1.516376E-01   2.833175E+00   2.848067E+00\n",
      "      -4.656038E-01  -1.908451E+00  -4.482271E-01   1.773358E+00   2.870127E-01\n",
      "      -7.341277E-01  -1.678623E+00  -2.614929E+00   2.110011E+00  -1.463826E-01\n",
      "       1.581453E+00  -1.041444E+00  -1.627966E+00   1.001350E+00  -1.241331E-01\n",
      "       3.690147E-01   1.912176E-01  -1.080743E+00\n",
      "iteration:  31 / 30\n"
     ]
    }
   ],
   "source": [
    "my_result = scipy.optimize.minimize(fun=my_cost, x0=_THETA_INIT, method=\"COBYLA\", callback= my_callback, options={'disp':True, 'maxiter': _I_MAX})"
   ]
  },
  {
   "cell_type": "code",
   "execution_count": null,
   "metadata": {
    "collapsed": false,
    "jupyter": {
     "outputs_hidden": false
    },
    "pycharm": {
     "name": "#%%\n"
    }
   },
   "outputs": [],
   "source": [
    "iterations = [i for i in range(len(losses))]\n",
    "fig, ax = plt.subplots(nrows=1,ncols=1,figsize=(6,3))\n",
    "ax.plot(iterations,losses)\n",
    "ax.set_xlabel(\"iteration\"), ax.set_ylabel(\"Loss\")\n",
    "plt.show()"
   ]
  },
  {
   "cell_type": "code",
   "execution_count": 22,
   "metadata": {
    "collapsed": false,
    "jupyter": {
     "outputs_hidden": false
    },
    "pycharm": {
     "name": "#%%\n"
    }
   },
   "outputs": [],
   "source": [
    "my_circuit=ansatz(_theta = my_result['x'],\n",
    "                  _nr_qubits=_N_QUBITS,\n",
    "                  _layer_depth=_L_DEPTH,\n",
    "                  _all_2_all=_ALL_2_ALL,\n",
    "                  _uniform_warm_start=True)"
   ]
  },
  {
   "cell_type": "code",
   "execution_count": 23,
   "metadata": {
    "collapsed": false,
    "jupyter": {
     "outputs_hidden": false
    },
    "pycharm": {
     "name": "#%%\n"
    }
   },
   "outputs": [
    {
     "data": {
      "text/plain": "<Figure size 700x500 with 1 Axes>",
      "image/png": "[encoded data removed]"
     },
     "execution_count": 23,
     "metadata": {},
     "output_type": "execute_result"
    }
   ],
   "source": [
    "aer_sim = qiskit.Aer.get_backend('aer_simulator')\n",
    "shots = 4096\n",
    "t_qpe = qiskit.transpile(my_circuit, aer_sim)\n",
    "qobj = qiskit.assemble(t_qpe, shots=shots)\n",
    "results = aer_sim.run(qobj).result()\n",
    "answer = results.get_counts()\n",
    "plot_histogram(answer)"
   ]
  }
 ],
 "metadata": {
  "kernelspec": {
   "display_name": "Python 3 (ipykernel)",
   "language": "python",
   "name": "python3"
  },
  "language_info": {
   "codemirror_mode": {
    "name": "ipython",
    "version": 3
   },
   "file_extension": ".py",
   "mimetype": "text/x-python",
   "name": "python",
   "nbconvert_exporter": "python",
   "pygments_lexer": "ipython3",
   "version": "3.9.12"
  }
 },
 "nbformat": 4,
 "nbformat_minor": 4
}