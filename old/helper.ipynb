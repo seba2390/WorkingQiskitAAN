{
 "cells": [
  {
   "cell_type": "code",
   "execution_count": 40,
   "metadata": {
    "collapsed": true
   },
   "outputs": [],
   "source": [
    "import torch\n",
    "from Util import *"
   ]
  },
  {
   "cell_type": "code",
   "execution_count": 41,
   "outputs": [],
   "source": [
    "# MNIST digit pictures are 28 x 28.\n",
    "image_dims = (28,28)\n",
    "latent_size = 10\n",
    "device = torch.device(\"cuda:0\" if torch.cuda.is_available() else \"cpu\")\n",
    "\n",
    "# 1 x 28 x 28 => 32 x 14 x 14\n",
    "conv1 = torch.nn.Sequential(\n",
    "    torch.nn.Conv2d(in_channels=1, out_channels=32, kernel_size=(5, 5),\n",
    "                    stride=(2, 2), padding=(2, 2), bias=False),\n",
    "    torch.nn.LeakyReLU(negative_slope=0.01)\n",
    ")\n",
    "\n",
    "# 32 x 14 x 14 => 64 x 7 x 7\n",
    "conv2 = torch.nn.Sequential(\n",
    "    torch.nn.Conv2d(in_channels=32,out_channels=64,kernel_size=(5,5),\n",
    "                    stride=(2,2),padding=(2,2),bias=False),\n",
    "    torch.nn.LeakyReLU(negative_slope=0.01)\n",
    ")\n",
    "\n",
    "# 64 x 7 x 7 => 128 x 3 x 3\n",
    "conv3 = torch.nn.Sequential(\n",
    "    torch.nn.Conv2d(in_channels=64, out_channels=128, kernel_size=(5, 5),\n",
    "                    stride=(2, 2), padding=(1, 1), bias=False),\n",
    "    torch.nn.LeakyReLU(negative_slope=0.01)\n",
    ")\n",
    "\n",
    "my_flatten = torch.nn.Flatten()\n",
    "\n",
    "fc1 = torch.nn.Sequential(\n",
    "            torch.nn.Linear(in_features=1152,\n",
    "                            out_features=latent_size),\n",
    "            torch.nn.LeakyReLU(negative_slope=0.01))\n",
    "\n",
    "\n",
    "fc2 = torch.nn.Sequential(\n",
    "            torch.nn.Linear(in_features=latent_size,\n",
    "                            out_features=1),\n",
    "            torch.nn.LeakyReLU(negative_slope=0.01))\n"
   ],
   "metadata": {
    "collapsed": false
   }
  },
  {
   "cell_type": "code",
   "execution_count": 42,
   "outputs": [
    {
     "name": "stdout",
     "output_type": "stream",
     "text": [
      "Shape: torch.Size([2, 1, 28, 28])\n",
      "Shape: torch.Size([2, 32, 14, 14])\n",
      "Shape: torch.Size([2, 64, 7, 7])\n",
      "Shape: torch.Size([2, 128, 3, 3])\n",
      "Shape: torch.Size([2, 1152])\n",
      "Shape: torch.Size([2, 10])\n",
      "Shape: torch.Size([2, 1])\n"
     ]
    }
   ],
   "source": [
    "X = torch.randn(size=(2,1,28,28))\n",
    "print(\"Shape:\", X.shape)\n",
    "X = conv1(X)\n",
    "print(\"Shape:\", X.shape)\n",
    "X = conv2(X)\n",
    "print(\"Shape:\", X.shape)\n",
    "X = conv3(X)\n",
    "print(\"Shape:\", X.shape)\n",
    "X = my_flatten(X)\n",
    "print(\"Shape:\", X.shape)\n",
    "X = fc1(X)\n",
    "print(\"Shape:\", X.shape)\n",
    "X = fc2(X)\n",
    "print(\"Shape:\", X.shape)\n"
   ],
   "metadata": {
    "collapsed": false
   }
  },
  {
   "cell_type": "code",
   "execution_count": 95,
   "outputs": [],
   "source": [
    "fc3 = torch.nn.Sequential(\n",
    "            torch.nn.Linear(in_features=latent_size,\n",
    "                            out_features=1152),\n",
    "            torch.nn.BatchNorm1d(num_features=1152),\n",
    "            torch.nn.LeakyReLU(negative_slope=0.01))\n",
    "\n",
    "reshape = Reshape(128, 3, 3)\n",
    "\n",
    "conv4 = torch.nn.Sequential(\n",
    "    torch.nn.ConvTranspose2d(in_channels=128, out_channels=64, kernel_size=(5, 5),\n",
    "                    stride=(2, 2), padding=(1, 1), bias=False),\n",
    "    torch.nn.BatchNorm2d(num_features=64),\n",
    "    torch.nn.LeakyReLU(negative_slope=0.01)\n",
    ")\n",
    "\n",
    "conv5 = torch.nn.Sequential(\n",
    "    torch.nn.ConvTranspose2d(in_channels=64, out_channels=32, kernel_size=(6, 6),\n",
    "                    stride=(2, 2), padding=(2, 2), bias=False),\n",
    "    torch.nn.BatchNorm2d(num_features=32),\n",
    "    torch.nn.LeakyReLU(negative_slope=0.01)\n",
    ")\n",
    "\n",
    "conv6 = torch.nn.Sequential(\n",
    "    torch.nn.ConvTranspose2d(in_channels=32, out_channels=1, kernel_size=(6, 6),\n",
    "                    stride=(2, 2), padding=(2, 2), bias=False),\n",
    "    torch.nn.BatchNorm2d(num_features=1),\n",
    "    torch.nn.LeakyReLU(negative_slope=0.01)\n",
    ")\n"
   ],
   "metadata": {
    "collapsed": false
   }
  },
  {
   "cell_type": "code",
   "execution_count": 97,
   "outputs": [
    {
     "name": "stdout",
     "output_type": "stream",
     "text": [
      "Shape: torch.Size([2, 10])\n",
      "Shape: torch.Size([2, 1152])\n",
      "Shape: torch.Size([2, 128, 3, 3])\n",
      "Shape: torch.Size([2, 64, 7, 7])\n",
      "Shape: torch.Size([2, 32, 14, 14])\n",
      "Shape: torch.Size([2, 1, 28, 28])\n"
     ]
    }
   ],
   "source": [
    "X = torch.randn(size=(2,latent_size))\n",
    "print(\"Shape:\", X.shape)\n",
    "X = fc3(X)\n",
    "print(\"Shape:\", X.shape)\n",
    "X = reshape(X)\n",
    "print(\"Shape:\", X.shape)\n",
    "X = conv4(X)\n",
    "print(\"Shape:\", X.shape)\n",
    "X = conv5(X)\n",
    "print(\"Shape:\", X.shape)\n",
    "X = conv6(X)\n",
    "print(\"Shape:\", X.shape)\n"
   ],
   "metadata": {
    "collapsed": false
   }
  },
  {
   "cell_type": "code",
   "execution_count": 88,
   "outputs": [],
   "source": [],
   "metadata": {
    "collapsed": false
   }
  },
  {
   "cell_type": "code",
   "execution_count": 64,
   "outputs": [],
   "source": [],
   "metadata": {
    "collapsed": false
   }
  }
 ],
 "metadata": {
  "kernelspec": {
   "display_name": "Python 3",
   "language": "python",
   "name": "python3"
  },
  "language_info": {
   "codemirror_mode": {
    "name": "ipython",
    "version": 2
   },
   "file_extension": ".py",
   "mimetype": "text/x-python",
   "name": "python",
   "nbconvert_exporter": "python",
   "pygments_lexer": "ipython2",
   "version": "2.7.6"
  }
 },
 "nbformat": 4,
 "nbformat_minor": 0
}
